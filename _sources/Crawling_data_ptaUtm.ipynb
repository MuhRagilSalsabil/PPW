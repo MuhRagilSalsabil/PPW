{
  "nbformat": 4,
  "nbformat_minor": 0,
  "metadata": {
    "colab": {
      "provenance": [],
      "mount_file_id": "1-SZxeT4aMAYVXlhKtnH5QhKiLrWITPD_",
      "authorship_tag": "ABX9TyP3bQKXuQOLgEQJD6c36NhK",
      "include_colab_link": true
    },
    "kernelspec": {
      "name": "python3",
      "display_name": "Python 3"
    },
    "language_info": {
      "name": "python"
    }
  },
  "cells": [
    {
      "cell_type": "markdown",
      "metadata": {
        "id": "view-in-github",
        "colab_type": "text"
      },
      "source": [
        "<a href=\"https://colab.research.google.com/github/MuhRagilSalsabil/PPW/blob/main/Crawling_data_ptaUtm.ipynb\" target=\"_parent\"><img src=\"https://colab.research.google.com/assets/colab-badge.svg\" alt=\"Open In Colab\"/></a>"
      ]
    },
    {
      "cell_type": "markdown",
      "source": [
        "#**Crawlling Data PTA UTM**\n",
        "\n"
      ],
      "metadata": {
        "id": "6epVERIfPxyt"
      }
    },
    {
      "cell_type": "markdown",
      "source": [
        "Install Module"
      ],
      "metadata": {
        "id": "CaJTmFavPLzE"
      }
    },
    {
      "cell_type": "code",
      "source": [
        "_= !pip install requests\n",
        "_= !pip install bs4"
      ],
      "metadata": {
        "id": "c4kyuW0JtBtw"
      },
      "execution_count": null,
      "outputs": []
    },
    {
      "cell_type": "markdown",
      "source": [
        "Mount Google Drive"
      ],
      "metadata": {
        "id": "qKXVxOD2PRzR"
      }
    },
    {
      "cell_type": "code",
      "source": [
        "from google.colab import drive\n",
        "drive.mount('/content/drive')"
      ],
      "metadata": {
        "colab": {
          "base_uri": "https://localhost:8080/"
        },
        "id": "MrxEOBfH1FTg",
        "outputId": "b8edebfb-9b06-49db-9c3a-a0f91fe32c7d"
      },
      "execution_count": null,
      "outputs": [
        {
          "output_type": "stream",
          "name": "stdout",
          "text": [
            "Drive already mounted at /content/drive; to attempt to forcibly remount, call drive.mount(\"/content/drive\", force_remount=True).\n"
          ]
        }
      ]
    },
    {
      "cell_type": "markdown",
      "source": [
        "Import Module"
      ],
      "metadata": {
        "id": "3oBf79KTPkYt"
      }
    },
    {
      "cell_type": "code",
      "execution_count": null,
      "metadata": {
        "id": "EKRoAq46s-2Z"
      },
      "outputs": [],
      "source": [
        "import requests\n",
        "import csv\n",
        "import pandas as pd\n",
        "from bs4 import BeautifulSoup\n",
        "import warnings\n",
        "warnings.filterwarnings(\"ignore\")"
      ]
    },
    {
      "cell_type": "markdown",
      "source": [
        "Crawlling Process"
      ],
      "metadata": {
        "id": "WujXHNZcQFEM"
      }
    },
    {
      "cell_type": "code",
      "source": [
        "headers = {\n",
        "        'Access-Control-Allow-Origin': '*',\n",
        "        'Access-Control-Allow-Methods': 'GET',\n",
        "        'Access-Control-Allow-Headers': 'Content-Type',\n",
        "        'accept': '*/*',\n",
        "        'accept-encoding': 'gzip, deflate',\n",
        "        'accept-language': 'en,mr;q=0.9',\n",
        "        'User-Agent': 'Mozilla/5.0 (Windows NT 10.0; Win64; x64) AppleWebKit/537.36 (KHTML, like Gecko) Chrome/95.0.4638.69 Safari/537.36'}\n",
        "\n",
        "list_judul = []\n",
        "list_penulis = []\n",
        "list_pembimbing1 = []\n",
        "list_pembimbing2 = []\n",
        "list_abstrak = []\n",
        "url = f\"https://pta.trunojoyo.ac.id/c_search/byprod/10\"\n",
        "req = requests.get(url,headers=headers,timeout=5,verify=False)\n",
        "for i in range(2,173):\n",
        "  # for i in url:\n",
        "  soup = BeautifulSoup(req.content, 'html.parser')\n",
        "  results = soup.find(id=\"content_journal\")\n",
        "  elements = results.find_all(\"li\", attrs={\"data-id\":\"id-1\"})\n",
        "#     print(elements)\n",
        "  for element in elements:\n",
        "      info = element.find_all(\"div\")[0]\n",
        "      info_nama = info.find_all(\"div\")\n",
        "#         print(info_nama)\n",
        "      link_abstrak = element.find_all(\"div\")[-1].find(\"a\")[\"href\"]\n",
        "#         ekstrak info\n",
        "      judul = info.find(\"a\", class_=\"title\").text\n",
        "      penulis, pembimbing1, pembimbing2 = [nama.text.split(\":\")[1].strip() for nama in info_nama]\n",
        "\n",
        "#         ekstrak abstrak\n",
        "\n",
        "#         print(link_abstrak)\n",
        "      req = requests.get(link_abstrak,headers=headers,timeout=5,verify=False)\n",
        "      soup_abstrak =  BeautifulSoup(req.content, 'html.parser')\n",
        "      results_abstrak = soup_abstrak.find_all(\"p\")\n",
        "\n",
        "      abstrak = results_abstrak[0].text\n",
        "\n",
        "      list_judul.append(judul)\n",
        "      list_penulis.append(penulis)\n",
        "      list_pembimbing1.append(pembimbing1)\n",
        "      list_pembimbing2.append(pembimbing2)\n",
        "      list_abstrak.append(abstrak)\n",
        "\n",
        "  url = f\"https://pta.trunojoyo.ac.id/c_search/byprod/10/{i}\"\n",
        "  req = requests.get(url,headers=headers,timeout=50,verify=False)\n",
        "  if(req.status_code == 404):\n",
        "      break"
      ],
      "metadata": {
        "id": "_JHbAzjiQ6bL"
      },
      "execution_count": null,
      "outputs": []
    },
    {
      "cell_type": "markdown",
      "source": [
        "Get Shape of data frame"
      ],
      "metadata": {
        "id": "7-ZUI7QHQN_l"
      }
    },
    {
      "cell_type": "code",
      "source": [
        "df.shape"
      ],
      "metadata": {
        "colab": {
          "base_uri": "https://localhost:8080/"
        },
        "id": "kNTEnwsZpeZx",
        "outputId": "c49dd023-5695-49c1-d4f1-c24317a450a7"
      },
      "execution_count": null,
      "outputs": [
        {
          "output_type": "execute_result",
          "data": {
            "text/plain": [
              "(855, 5)"
            ]
          },
          "metadata": {},
          "execution_count": 48
        }
      ]
    },
    {
      "cell_type": "markdown",
      "source": [
        "Create Data Frame and Save CSV"
      ],
      "metadata": {
        "id": "ov9NCG6zQWNS"
      }
    },
    {
      "cell_type": "code",
      "source": [
        " df = pd.DataFrame({\n",
        "    \"Judul\" : list_judul,\n",
        "    \"Penulis\" : list_penulis,\n",
        "    \"Pembimbing I\" : list_pembimbing1,\n",
        "    \"Pembimbing II\" : list_pembimbing2,\n",
        "    \"Abstrak\" : list_abstrak\n",
        "})\n",
        "df\n",
        "# df.to_csv(\"ptaUtm.csv\", index=True)"
      ],
      "metadata": {
        "colab": {
          "base_uri": "https://localhost:8080/",
          "height": 597
        },
        "id": "pwaUMdK6aTma",
        "outputId": "7fbdb95b-2b5e-4d1d-99f7-2321699b5cdd"
      },
      "execution_count": null,
      "outputs": [
        {
          "output_type": "execute_result",
          "data": {
            "text/plain": [
              "                                                 Judul                Penulis  \\\n",
              "0    PERANCANGAN DAN IMPLEMENTASI SISTEM DATABASE \\...     A.Ubaidillah S.Kom   \n",
              "1    APLIKASI KONTROL DAN MONITORING JARINGAN KOMPU...    M. Basith Ardianto,   \n",
              "2    RANCANG BANGUN APLIKASI PROXY SERVER UNTUK\\r\\n...  Akhmad Suyandi, S.Kom   \n",
              "3    SISTEM PENDUKUNG KEPUTUSAN OPTIMASI PENJADWALA...        Heri Supriyanto   \n",
              "4    SISTEM AUGMENTED REALITY ANIMASI BENDA BERGERA...   Septian Rahman Hakim   \n",
              "..                                                 ...                    ...   \n",
              "850  Sistem Peramalan Stok Barang dengan menggunaka...    Devi Editya Susanti   \n",
              "851  Sistem Rekomendasi Dalam Menentukan Posisi Dep...               Kumayyah   \n",
              "852  MULTI CRITERIA DECISION MAKING UNTUK MENENTUKA...      Ahmad Faris Ihsan   \n",
              "853  PENERAPAN ALGORITMA LONG-SHORT TERM MEMORY UNT...  Rachmad Agung Pambudi   \n",
              "854  SISTEM PENCARIAN TEKS AL-QURAN TERJEMAHAN BERB...       Nadila Hidayanti   \n",
              "\n",
              "                             Pembimbing I  \\\n",
              "0                        Budi Setyono M.T   \n",
              "1                   Drs. Budi Soesilo, MT   \n",
              "2                  Drs. Budi Soesilo, M.T   \n",
              "3                    Mulaab, S.Si., M.Kom   \n",
              "4           Arik Kurniawati, S.Kom., M.T.   \n",
              "..                                    ...   \n",
              "850    Sigit Susanto Putro, S.Kom., M.Kom   \n",
              "851        Muhammad Ali Syakur, S.Si., MT   \n",
              "852   Moch. Kautsar Sophan, S.Kom., M.MT.   \n",
              "853  Eka Mala Sari Rochman, S.Kom., M.Kom   \n",
              "854           Achmad Jauhari, S.T., M.Kom   \n",
              "\n",
              "                                Pembimbing II  \\\n",
              "0                                Hermawan S.T   \n",
              "1                               Koko Joni, ST   \n",
              "2                            Hermawan, ST, MT   \n",
              "3                   Firli Irhamni, ST., M.Kom   \n",
              "4                        Haryanto, S.T., M.T.   \n",
              "..                                        ...   \n",
              "850               Ach. Khozaimi, S.Kom.,M.Kom   \n",
              "851       Sigit Susanto Putro, S.Kom., M.Kom.   \n",
              "852  Dr. Yeni Kustiyahningsih, S.Kom., M.Kom.   \n",
              "853               Sri Herawati, S.Kom., M.Kom   \n",
              "854         Ika Oktavia Suzanti, S.Kom., M.Cs   \n",
              "\n",
              "                                               Abstrak  \n",
              "0    Sistem  informasi  akademik  (SIAKAD) merupaka...  \n",
              "1    Berjalannya koneksi jaringan komputer dengan l...  \n",
              "2    Web server adalah sebuah perangkat lunak serve...  \n",
              "3    Penjadwalan  kuliah  di  Perguruan  Tinggi  me...  \n",
              "4    Seiring perkembangan teknologi yang ada diduni...  \n",
              "..                                                 ...  \n",
              "850  Toko tas Deeolshop menjual berbagai macam tas ...  \n",
              "851  Sepak bola adalah salah satu olahraga yang saa...  \n",
              "852  Perguruan Tinggi merupakan salah satu jenjang ...  \n",
              "853  Investasi saham selama ini memiliki resiko ker...  \n",
              "854  Information Retrieval (IR) merupakan pengambil...  \n",
              "\n",
              "[855 rows x 5 columns]"
            ],
            "text/html": [
              "\n",
              "  <div id=\"df-db3c8aa3-b4f5-4587-945e-f77c90cfc13e\" class=\"colab-df-container\">\n",
              "    <div>\n",
              "<style scoped>\n",
              "    .dataframe tbody tr th:only-of-type {\n",
              "        vertical-align: middle;\n",
              "    }\n",
              "\n",
              "    .dataframe tbody tr th {\n",
              "        vertical-align: top;\n",
              "    }\n",
              "\n",
              "    .dataframe thead th {\n",
              "        text-align: right;\n",
              "    }\n",
              "</style>\n",
              "<table border=\"1\" class=\"dataframe\">\n",
              "  <thead>\n",
              "    <tr style=\"text-align: right;\">\n",
              "      <th></th>\n",
              "      <th>Judul</th>\n",
              "      <th>Penulis</th>\n",
              "      <th>Pembimbing I</th>\n",
              "      <th>Pembimbing II</th>\n",
              "      <th>Abstrak</th>\n",
              "    </tr>\n",
              "  </thead>\n",
              "  <tbody>\n",
              "    <tr>\n",
              "      <th>0</th>\n",
              "      <td>PERANCANGAN DAN IMPLEMENTASI SISTEM DATABASE \\...</td>\n",
              "      <td>A.Ubaidillah S.Kom</td>\n",
              "      <td>Budi Setyono M.T</td>\n",
              "      <td>Hermawan S.T</td>\n",
              "      <td>Sistem  informasi  akademik  (SIAKAD) merupaka...</td>\n",
              "    </tr>\n",
              "    <tr>\n",
              "      <th>1</th>\n",
              "      <td>APLIKASI KONTROL DAN MONITORING JARINGAN KOMPU...</td>\n",
              "      <td>M. Basith Ardianto,</td>\n",
              "      <td>Drs. Budi Soesilo, MT</td>\n",
              "      <td>Koko Joni, ST</td>\n",
              "      <td>Berjalannya koneksi jaringan komputer dengan l...</td>\n",
              "    </tr>\n",
              "    <tr>\n",
              "      <th>2</th>\n",
              "      <td>RANCANG BANGUN APLIKASI PROXY SERVER UNTUK\\r\\n...</td>\n",
              "      <td>Akhmad Suyandi, S.Kom</td>\n",
              "      <td>Drs. Budi Soesilo, M.T</td>\n",
              "      <td>Hermawan, ST, MT</td>\n",
              "      <td>Web server adalah sebuah perangkat lunak serve...</td>\n",
              "    </tr>\n",
              "    <tr>\n",
              "      <th>3</th>\n",
              "      <td>SISTEM PENDUKUNG KEPUTUSAN OPTIMASI PENJADWALA...</td>\n",
              "      <td>Heri Supriyanto</td>\n",
              "      <td>Mulaab, S.Si., M.Kom</td>\n",
              "      <td>Firli Irhamni, ST., M.Kom</td>\n",
              "      <td>Penjadwalan  kuliah  di  Perguruan  Tinggi  me...</td>\n",
              "    </tr>\n",
              "    <tr>\n",
              "      <th>4</th>\n",
              "      <td>SISTEM AUGMENTED REALITY ANIMASI BENDA BERGERA...</td>\n",
              "      <td>Septian Rahman Hakim</td>\n",
              "      <td>Arik Kurniawati, S.Kom., M.T.</td>\n",
              "      <td>Haryanto, S.T., M.T.</td>\n",
              "      <td>Seiring perkembangan teknologi yang ada diduni...</td>\n",
              "    </tr>\n",
              "    <tr>\n",
              "      <th>...</th>\n",
              "      <td>...</td>\n",
              "      <td>...</td>\n",
              "      <td>...</td>\n",
              "      <td>...</td>\n",
              "      <td>...</td>\n",
              "    </tr>\n",
              "    <tr>\n",
              "      <th>850</th>\n",
              "      <td>Sistem Peramalan Stok Barang dengan menggunaka...</td>\n",
              "      <td>Devi Editya Susanti</td>\n",
              "      <td>Sigit Susanto Putro, S.Kom., M.Kom</td>\n",
              "      <td>Ach. Khozaimi, S.Kom.,M.Kom</td>\n",
              "      <td>Toko tas Deeolshop menjual berbagai macam tas ...</td>\n",
              "    </tr>\n",
              "    <tr>\n",
              "      <th>851</th>\n",
              "      <td>Sistem Rekomendasi Dalam Menentukan Posisi Dep...</td>\n",
              "      <td>Kumayyah</td>\n",
              "      <td>Muhammad Ali Syakur, S.Si., MT</td>\n",
              "      <td>Sigit Susanto Putro, S.Kom., M.Kom.</td>\n",
              "      <td>Sepak bola adalah salah satu olahraga yang saa...</td>\n",
              "    </tr>\n",
              "    <tr>\n",
              "      <th>852</th>\n",
              "      <td>MULTI CRITERIA DECISION MAKING UNTUK MENENTUKA...</td>\n",
              "      <td>Ahmad Faris Ihsan</td>\n",
              "      <td>Moch. Kautsar Sophan, S.Kom., M.MT.</td>\n",
              "      <td>Dr. Yeni Kustiyahningsih, S.Kom., M.Kom.</td>\n",
              "      <td>Perguruan Tinggi merupakan salah satu jenjang ...</td>\n",
              "    </tr>\n",
              "    <tr>\n",
              "      <th>853</th>\n",
              "      <td>PENERAPAN ALGORITMA LONG-SHORT TERM MEMORY UNT...</td>\n",
              "      <td>Rachmad Agung Pambudi</td>\n",
              "      <td>Eka Mala Sari Rochman, S.Kom., M.Kom</td>\n",
              "      <td>Sri Herawati, S.Kom., M.Kom</td>\n",
              "      <td>Investasi saham selama ini memiliki resiko ker...</td>\n",
              "    </tr>\n",
              "    <tr>\n",
              "      <th>854</th>\n",
              "      <td>SISTEM PENCARIAN TEKS AL-QURAN TERJEMAHAN BERB...</td>\n",
              "      <td>Nadila Hidayanti</td>\n",
              "      <td>Achmad Jauhari, S.T., M.Kom</td>\n",
              "      <td>Ika Oktavia Suzanti, S.Kom., M.Cs</td>\n",
              "      <td>Information Retrieval (IR) merupakan pengambil...</td>\n",
              "    </tr>\n",
              "  </tbody>\n",
              "</table>\n",
              "<p>855 rows × 5 columns</p>\n",
              "</div>\n",
              "    <div class=\"colab-df-buttons\">\n",
              "\n",
              "  <div class=\"colab-df-container\">\n",
              "    <button class=\"colab-df-convert\" onclick=\"convertToInteractive('df-db3c8aa3-b4f5-4587-945e-f77c90cfc13e')\"\n",
              "            title=\"Convert this dataframe to an interactive table.\"\n",
              "            style=\"display:none;\">\n",
              "\n",
              "  <svg xmlns=\"http://www.w3.org/2000/svg\" height=\"24px\" viewBox=\"0 -960 960 960\">\n",
              "    <path d=\"M120-120v-720h720v720H120Zm60-500h600v-160H180v160Zm220 220h160v-160H400v160Zm0 220h160v-160H400v160ZM180-400h160v-160H180v160Zm440 0h160v-160H620v160ZM180-180h160v-160H180v160Zm440 0h160v-160H620v160Z\"/>\n",
              "  </svg>\n",
              "    </button>\n",
              "\n",
              "  <style>\n",
              "    .colab-df-container {\n",
              "      display:flex;\n",
              "      gap: 12px;\n",
              "    }\n",
              "\n",
              "    .colab-df-convert {\n",
              "      background-color: #E8F0FE;\n",
              "      border: none;\n",
              "      border-radius: 50%;\n",
              "      cursor: pointer;\n",
              "      display: none;\n",
              "      fill: #1967D2;\n",
              "      height: 32px;\n",
              "      padding: 0 0 0 0;\n",
              "      width: 32px;\n",
              "    }\n",
              "\n",
              "    .colab-df-convert:hover {\n",
              "      background-color: #E2EBFA;\n",
              "      box-shadow: 0px 1px 2px rgba(60, 64, 67, 0.3), 0px 1px 3px 1px rgba(60, 64, 67, 0.15);\n",
              "      fill: #174EA6;\n",
              "    }\n",
              "\n",
              "    .colab-df-buttons div {\n",
              "      margin-bottom: 4px;\n",
              "    }\n",
              "\n",
              "    [theme=dark] .colab-df-convert {\n",
              "      background-color: #3B4455;\n",
              "      fill: #D2E3FC;\n",
              "    }\n",
              "\n",
              "    [theme=dark] .colab-df-convert:hover {\n",
              "      background-color: #434B5C;\n",
              "      box-shadow: 0px 1px 3px 1px rgba(0, 0, 0, 0.15);\n",
              "      filter: drop-shadow(0px 1px 2px rgba(0, 0, 0, 0.3));\n",
              "      fill: #FFFFFF;\n",
              "    }\n",
              "  </style>\n",
              "\n",
              "    <script>\n",
              "      const buttonEl =\n",
              "        document.querySelector('#df-db3c8aa3-b4f5-4587-945e-f77c90cfc13e button.colab-df-convert');\n",
              "      buttonEl.style.display =\n",
              "        google.colab.kernel.accessAllowed ? 'block' : 'none';\n",
              "\n",
              "      async function convertToInteractive(key) {\n",
              "        const element = document.querySelector('#df-db3c8aa3-b4f5-4587-945e-f77c90cfc13e');\n",
              "        const dataTable =\n",
              "          await google.colab.kernel.invokeFunction('convertToInteractive',\n",
              "                                                    [key], {});\n",
              "        if (!dataTable) return;\n",
              "\n",
              "        const docLinkHtml = 'Like what you see? Visit the ' +\n",
              "          '<a target=\"_blank\" href=https://colab.research.google.com/notebooks/data_table.ipynb>data table notebook</a>'\n",
              "          + ' to learn more about interactive tables.';\n",
              "        element.innerHTML = '';\n",
              "        dataTable['output_type'] = 'display_data';\n",
              "        await google.colab.output.renderOutput(dataTable, element);\n",
              "        const docLink = document.createElement('div');\n",
              "        docLink.innerHTML = docLinkHtml;\n",
              "        element.appendChild(docLink);\n",
              "      }\n",
              "    </script>\n",
              "  </div>\n",
              "\n",
              "\n",
              "<div id=\"df-254cc58e-cdf8-486d-b909-fb0fc2f42a11\">\n",
              "  <button class=\"colab-df-quickchart\" onclick=\"quickchart('df-254cc58e-cdf8-486d-b909-fb0fc2f42a11')\"\n",
              "            title=\"Suggest charts.\"\n",
              "            style=\"display:none;\">\n",
              "\n",
              "<svg xmlns=\"http://www.w3.org/2000/svg\" height=\"24px\"viewBox=\"0 0 24 24\"\n",
              "     width=\"24px\">\n",
              "    <g>\n",
              "        <path d=\"M19 3H5c-1.1 0-2 .9-2 2v14c0 1.1.9 2 2 2h14c1.1 0 2-.9 2-2V5c0-1.1-.9-2-2-2zM9 17H7v-7h2v7zm4 0h-2V7h2v10zm4 0h-2v-4h2v4z\"/>\n",
              "    </g>\n",
              "</svg>\n",
              "  </button>\n",
              "\n",
              "<style>\n",
              "  .colab-df-quickchart {\n",
              "    background-color: #E8F0FE;\n",
              "    border: none;\n",
              "    border-radius: 50%;\n",
              "    cursor: pointer;\n",
              "    display: none;\n",
              "    fill: #1967D2;\n",
              "    height: 32px;\n",
              "    padding: 0 0 0 0;\n",
              "    width: 32px;\n",
              "  }\n",
              "\n",
              "  .colab-df-quickchart:hover {\n",
              "    background-color: #E2EBFA;\n",
              "    box-shadow: 0px 1px 2px rgba(60, 64, 67, 0.3), 0px 1px 3px 1px rgba(60, 64, 67, 0.15);\n",
              "    fill: #174EA6;\n",
              "  }\n",
              "\n",
              "  [theme=dark] .colab-df-quickchart {\n",
              "    background-color: #3B4455;\n",
              "    fill: #D2E3FC;\n",
              "  }\n",
              "\n",
              "  [theme=dark] .colab-df-quickchart:hover {\n",
              "    background-color: #434B5C;\n",
              "    box-shadow: 0px 1px 3px 1px rgba(0, 0, 0, 0.15);\n",
              "    filter: drop-shadow(0px 1px 2px rgba(0, 0, 0, 0.3));\n",
              "    fill: #FFFFFF;\n",
              "  }\n",
              "</style>\n",
              "\n",
              "  <script>\n",
              "    async function quickchart(key) {\n",
              "      const charts = await google.colab.kernel.invokeFunction(\n",
              "          'suggestCharts', [key], {});\n",
              "    }\n",
              "    (() => {\n",
              "      let quickchartButtonEl =\n",
              "        document.querySelector('#df-254cc58e-cdf8-486d-b909-fb0fc2f42a11 button');\n",
              "      quickchartButtonEl.style.display =\n",
              "        google.colab.kernel.accessAllowed ? 'block' : 'none';\n",
              "    })();\n",
              "  </script>\n",
              "</div>\n",
              "    </div>\n",
              "  </div>\n"
            ]
          },
          "metadata": {},
          "execution_count": 47
        }
      ]
    }
  ]
}